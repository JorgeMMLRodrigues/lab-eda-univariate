{
 "cells": [
  {
   "cell_type": "code",
   "execution_count": 2,
   "id": "f220012f",
   "metadata": {},
   "outputs": [],
   "source": [
    "import pandas as pd\n",
    "import numpy as np\n",
    "import os\n",
    "import matplotlib.pyplot as plt\n",
    "import seaborn as sns"
   ]
  },
  {
   "cell_type": "code",
   "execution_count": 5,
   "id": "93e7716e",
   "metadata": {},
   "outputs": [],
   "source": [
    "df = pd.read_csv(\"csv_files/amz_uk_price_prediction_dataset.csv\")"
   ]
  },
  {
   "cell_type": "code",
   "execution_count": 6,
   "id": "6091b08f",
   "metadata": {},
   "outputs": [
    {
     "data": {
      "application/vnd.microsoft.datawrangler.viewer.v0+json": {
       "columns": [
        {
         "name": "index",
         "rawType": "int64",
         "type": "integer"
        },
        {
         "name": "uid",
         "rawType": "int64",
         "type": "integer"
        },
        {
         "name": "asin",
         "rawType": "object",
         "type": "string"
        },
        {
         "name": "title",
         "rawType": "object",
         "type": "string"
        },
        {
         "name": "stars",
         "rawType": "float64",
         "type": "float"
        },
        {
         "name": "reviews",
         "rawType": "int64",
         "type": "integer"
        },
        {
         "name": "price",
         "rawType": "float64",
         "type": "float"
        },
        {
         "name": "isBestSeller",
         "rawType": "bool",
         "type": "boolean"
        },
        {
         "name": "boughtInLastMonth",
         "rawType": "int64",
         "type": "integer"
        },
        {
         "name": "category",
         "rawType": "object",
         "type": "string"
        }
       ],
       "conversionMethod": "pd.DataFrame",
       "ref": "3d04d719-fbcc-4c30-a759-0be5eabc79b6",
       "rows": [
        [
         "0",
         "1",
         "B09B96TG33",
         "Echo Dot (5th generation, 2022 release) | Big vibrant sound Wi-Fi and Bluetooth smart speaker with Alexa | Charcoal",
         "4.7",
         "15308",
         "21.99",
         "False",
         "0",
         "Hi-Fi Speakers"
        ],
        [
         "1",
         "2",
         "B01HTH3C8S",
         "Anker Soundcore mini, Super-Portable Bluetooth Speaker with 15-Hour Playtime, 66-Foot Bluetooth Range, Wireless Speaker with Enhanced Bass, Noise-Cancelling Microphone, for Outdoor, Travel, Home",
         "4.7",
         "98099",
         "23.99",
         "True",
         "0",
         "Hi-Fi Speakers"
        ],
        [
         "2",
         "3",
         "B09B8YWXDF",
         "Echo Dot (5th generation, 2022 release) | Big vibrant sound Wi-Fi and Bluetooth smart speaker with Alexa | Deep Sea Blue",
         "4.7",
         "15308",
         "21.99",
         "False",
         "0",
         "Hi-Fi Speakers"
        ],
        [
         "3",
         "4",
         "B09B8T5VGV",
         "Echo Dot with clock (5th generation, 2022 release) | Bigger vibrant sound Wi-Fi and Bluetooth smart speaker and Alexa | Cloud Blue",
         "4.7",
         "7205",
         "31.99",
         "False",
         "0",
         "Hi-Fi Speakers"
        ],
        [
         "4",
         "5",
         "B09WX6QD65",
         "Introducing Echo Pop | Full sound compact Wi-Fi and Bluetooth smart speaker with Alexa | Charcoal",
         "4.6",
         "1881",
         "17.99",
         "False",
         "0",
         "Hi-Fi Speakers"
        ],
        [
         "5",
         "6",
         "B09B97WSLF",
         "Echo Dot with clock (5th generation, 2022 release) | Bigger vibrant sound Wi-Fi and Bluetooth smart speaker and Alexa | Glacier White",
         "4.7",
         "7205",
         "31.99",
         "False",
         "0",
         "Hi-Fi Speakers"
        ],
        [
         "6",
         "7",
         "B09B9615X2",
         "Echo Dot (5th generation, 2022 release) | Big vibrant sound Wi-Fi and Bluetooth smart speaker with Alexa | Glacier White",
         "4.7",
         "15308",
         "21.99",
         "False",
         "0",
         "Hi-Fi Speakers"
        ],
        [
         "7",
         "8",
         "B01MTB55WH",
         "Anker Soundcore 2 Portable Bluetooth Speaker with 12W Stereo Sound, BassUp, IPX7 Waterproof, 24-Hour Playtime, Wireless Stereo Pairing, Speaker for Home, Outdoors, Travel",
         "4.7",
         "103673",
         "39.99",
         "False",
         "0",
         "Hi-Fi Speakers"
        ],
        [
         "8",
         "9",
         "B016MO90GW",
         "Bluetooth Speaker, Anker Soundcore Speaker Upgraded Version with 24H Playtime, IPX5 Waterproof, Stereo Sound, 66ft Bluetooth Range, Built-In Mic, Portable Wireless Speaker for iPhone Samsung",
         "4.7",
         "29909",
         "29.99",
         "False",
         "0",
         "Hi-Fi Speakers"
        ],
        [
         "9",
         "10",
         "B09ZQF5GZW",
         "RIENOK Bluetooth Speaker Portable Wireless Bluetooth Speaker with 30W Enhanced Bass IPX7 Waterproof Bluetooth 5.3 Outdoor Speaker for Travel Sport",
         "4.5",
         "16014",
         "29.99",
         "False",
         "0",
         "Hi-Fi Speakers"
        ],
        [
         "10",
         "11",
         "B08VDNCZT9",
         "JBL Charge 5 - Portable Bluetooth Speaker with deep bass, IP67 waterproof and dustproof, 20 hours of playtime, built-in powerbank, in black",
         "4.8",
         "11920",
         "139.0",
         "False",
         "0",
         "Hi-Fi Speakers"
        ],
        [
         "11",
         "12",
         "B09ZX9NP2W",
         "Introducing Echo Pop | Full sound compact Wi-Fi and Bluetooth smart speaker with Alexa | Lavender Bloom",
         "4.6",
         "1881",
         "17.99",
         "False",
         "0",
         "Hi-Fi Speakers"
        ],
        [
         "12",
         "13",
         "B09ZXDMNCY",
         "Introducing Echo Pop | Full sound compact Wi-Fi and Bluetooth smart speaker with Alexa | Glacier White",
         "4.6",
         "1881",
         "17.99",
         "False",
         "0",
         "Hi-Fi Speakers"
        ],
        [
         "13",
         "14",
         "B09B2R18PG",
         "All-new Echo Show 5 (3rd Gen, 2023 release) | Smart display and alarm clock with clearer sound | Charcoal",
         "4.5",
         "726",
         "49.99",
         "False",
         "0",
         "Hi-Fi Speakers"
        ],
        [
         "14",
         "15",
         "B084TNK1NL",
         "Echo Show 8 | 2nd generation (2021 release), HD smart display with Alexa and 13 MP camera | Charcoal",
         "4.7",
         "18333",
         "64.99",
         "False",
         "0",
         "Hi-Fi Speakers"
        ],
        [
         "15",
         "16",
         "B09B97BPSW",
         "Echo Dot Kids (5th generation, 2022 release) | Wi-Fi and Bluetooth smart speaker with Alexa | Designed for kids, with parental controls | Owl",
         "4.6",
         "1017",
         "26.99",
         "True",
         "0",
         "Hi-Fi Speakers"
        ],
        [
         "16",
         "17",
         "B08YF1T4SW",
         "Sony SRS-XB13 - Compact and Portable Waterproof Wireless Bluetooth speaker with EXTRA BASS - Black",
         "4.6",
         "6367",
         "39.0",
         "False",
         "0",
         "Hi-Fi Speakers"
        ],
        [
         "17",
         "18",
         "B09B8XRZYB",
         "Echo Dot Kids (5th generation, 2022 release) | Wi-Fi and Bluetooth smart speaker with Alexa | Designed for kids, with parental controls | Dragon",
         "4.6",
         "1017",
         "26.99",
         "True",
         "0",
         "Hi-Fi Speakers"
        ],
        [
         "18",
         "19",
         "B09B2SS2G1",
         "All-new Echo Show 5 (3rd Gen, 2023 release) | Smart display and alarm clock with clearer sound | White",
         "4.5",
         "726",
         "49.99",
         "False",
         "0",
         "Hi-Fi Speakers"
        ],
        [
         "19",
         "20",
         "B07NQCKJSH",
         "Echo Studio | Our best-sounding Wi-Fi and Bluetooth smart speaker ever | Dolby Atmos, spatial audio, smart home hub and Alexa | Charcoal",
         "4.5",
         "14222",
         "164.99",
         "False",
         "0",
         "Hi-Fi Speakers"
        ],
        [
         "20",
         "21",
         "B08BCHKY52",
         "soundcore 3 Bluetooth Speaker by Anker with Stereo Sound, Pure Titanium Diaphragm Drivers, 24H Playtime, IPX7 Waterproof, Bluetooth 5.0, PartyCast Technology, BassUp, App, Custom EQ",
         "4.6",
         "9273",
         "55.99",
         "False",
         "0",
         "Hi-Fi Speakers"
        ],
        [
         "21",
         "22",
         "B08FB2H6Y4",
         "JBL GO 3 - Wireless Bluetooth portable speaker with integrated loop for travel with USB C charging cable, in black",
         "4.8",
         "59668",
         "34.8",
         "False",
         "0",
         "Hi-Fi Speakers"
        ],
        [
         "22",
         "23",
         "B084TNGZHJ",
         "Echo Show 8 | 2nd generation (2021 release), HD smart display with Alexa and 13 MP camera | Glacier White",
         "4.7",
         "18333",
         "64.99",
         "False",
         "0",
         "Hi-Fi Speakers"
        ],
        [
         "23",
         "24",
         "B09HGRXXTM",
         "JBL Flip 6 Portable Bluetooth Speaker with 2-way speaker system and powerful JBL Original Pro Sound, up to 12 hours of playtime, in black",
         "4.7",
         "8700",
         "98.95",
         "False",
         "0",
         "Hi-Fi Speakers"
        ],
        [
         "24",
         "25",
         "B09B2RV31Z",
         "All-new Echo Show 5 (3rd generation) I Compact smart touchscreen with Alexa for smart home control and more I Cloud blue",
         "4.5",
         "726",
         "49.99",
         "False",
         "0",
         "Hi-Fi Speakers"
        ],
        [
         "25",
         "26",
         "B0BLS36M5R",
         "All-new Echo Show 8 | 3rd generation (2023 release), HD smart touchscreen with spatial audio, smart home hub and Alexa, Charcoal",
         "0.0",
         "0",
         "149.99",
         "False",
         "0",
         "Hi-Fi Speakers"
        ],
        [
         "26",
         "27",
         "B07PDJ9JFF",
         "Echo Flex – Voice control smart home devices with Alexa",
         "4.5",
         "21614",
         "9.99",
         "False",
         "0",
         "Hi-Fi Speakers"
        ],
        [
         "27",
         "28",
         "B07QK18BNY",
         "JBL FLIP 5 Portable Waterproof Bluetooth Speaker blue",
         "4.7",
         "6387",
         "79.99",
         "False",
         "0",
         "Hi-Fi Speakers"
        ],
        [
         "28",
         "29",
         "B096G3R7C3",
         "JBL PartyBox110 Portable Indoor and Outdoor Party Speaker with Built-In Lights, IPX4 Splashproof Design, Deep Bass and 12 Hours of Playtime, in Black",
         "4.8",
         "153",
         "289.0",
         "False",
         "0",
         "Hi-Fi Speakers"
        ],
        [
         "29",
         "30",
         "B01N4V4X5M",
         "Upgraded, Anker Soundcore Boost Bluetooth Speaker with Well-Balanced Sound, BassUp, 12H Playtime, USB-C, IPX7 Waterproof, with Customizable EQ via App, Wireless Stereo Pairing",
         "4.7",
         "29387",
         "39.98",
         "False",
         "600",
         "Hi-Fi Speakers"
        ],
        [
         "30",
         "31",
         "B08QF9F8BC",
         "Ortizan Bluetooth Speaker, Portable Wireless Bluetooth Speakers With Led Light, Louder Volume & Enhanced Bass, IPX7 Waterproof, 30H Playtime, Durable Loud Outdoor Speaker for Travel, Sport",
         "4.4",
         "17612",
         "35.99",
         "False",
         "0",
         "Hi-Fi Speakers"
        ],
        [
         "31",
         "32",
         "B08MQRDDYB",
         "Echo Show 15 | Full HD 15.6\" smart display with Alexa and Fire TV built in, remote not included",
         "4.4",
         "2616",
         "199.99",
         "False",
         "0",
         "Hi-Fi Speakers"
        ],
        [
         "32",
         "33",
         "B07WVP26FR",
         "Kolaura Portable Wireless Speaker, Bluetooth 5.0 Speaker with 3D Stereo HiFi Bass, 1500mAh Battery, 12 Hour Playtime (Blue)",
         "4.4",
         "2493",
         "15.99",
         "False",
         "1000",
         "Hi-Fi Speakers"
        ],
        [
         "33",
         "34",
         "B079DD19ZT",
         "Sony HT-SF150 2ch Single Soundbar with Bluetooth and S-Force Front Surround - Black",
         "4.3",
         "2391",
         "128.0",
         "False",
         "0",
         "Hi-Fi Speakers"
        ],
        [
         "34",
         "35",
         "B0BXQ1Q6NK",
         "Samsung Q990C Soundbar Speaker (2023) - 22 Speaker Home Sound System With Wireless Dolby Atmos Rear Speakers And Wireless Subwoofer, Alexa Built In, Smart Surround Sound, Bluetooth, WiFi & Airplay",
         "4.8",
         "13",
         "959.99",
         "False",
         "0",
         "Hi-Fi Speakers"
        ],
        [
         "35",
         "36",
         "B099TJGJ91",
         "Bose SoundLink Flex Bluetooth Portable Speaker, Wireless Waterproof Speaker for Outdoor Travel—Black",
         "4.8",
         "11692",
         "149.0",
         "False",
         "0",
         "Hi-Fi Speakers"
        ],
        [
         "36",
         "37",
         "B08L84ST93",
         "Bose Solo Soundbar Series II - TV Speaker with Bluetooth connectivity",
         "4.6",
         "2799",
         "169.0",
         "True",
         "0",
         "Hi-Fi Speakers"
        ],
        [
         "37",
         "38",
         "B0BXQ3DQW5",
         "Samsung Q700C Soundbar Speaker (2023) - 9 Speaker Home Sound System With Adaptive Sound, Dolby Atmos & Wireless Subwoofer, Night & Voice Enhancement, Smart Surround Sound, Bluetooth, WiFi & Airplay",
         "4.7",
         "15",
         "368.99",
         "False",
         "0",
         "Hi-Fi Speakers"
        ],
        [
         "38",
         "39",
         "B0B3XX8P9C",
         "JBL Flip Essential 2 Portable Bluetooth Speaker with Rechargeable Battery, IPX7 Waterproof, 10h Battery Life, Black",
         "4.7",
         "2452",
         "74.99",
         "False",
         "0",
         "Hi-Fi Speakers"
        ],
        [
         "39",
         "40",
         "B08HRWSYH6",
         "JBL Clip 4 - Bluetooth portable speaker with integrated carabiner, waterproof and dustproof, in black",
         "4.8",
         "8625",
         "39.95",
         "False",
         "0",
         "Hi-Fi Speakers"
        ],
        [
         "40",
         "41",
         "B084P3KP2R",
         "Echo Show 10 (3rd generation) | HD smart display with motion and Alexa, Charcoal Fabric",
         "4.5",
         "5053",
         "184.99",
         "False",
         "0",
         "Hi-Fi Speakers"
        ],
        [
         "41",
         "42",
         "B00ANI7HI2",
         "Jabra Speak 510 Speaker — Portable Bluetooth Speaker, Conference Speaker — Connects to Laptops, Smartphones and Tablets — USB Plug",
         "4.7",
         "5422",
         "95.0",
         "False",
         "0",
         "Hi-Fi Speakers"
        ],
        [
         "42",
         "43",
         "B08YDZRXGN",
         "Sony SRS-XB13 - Compact & Portable Waterproof Wireless Bluetooth® speaker with EXTRA BASS™ - Blue",
         "4.7",
         "2776",
         "39.99",
         "False",
         "0",
         "Hi-Fi Speakers"
        ],
        [
         "43",
         "44",
         "B081RQP7B9",
         "W-KING Bluetooth Speaker, 30W Portable Wireless Loud Speakers, IPX6 Waterproof Outdoor Speaker with Punchy Bass, 24H Playtime, EQ, AUX, TF Card, USB Playback -Powerful Speaker for Home, Party, Outdoor",
         "4.6",
         "5622",
         "38.39",
         "False",
         "0",
         "Hi-Fi Speakers"
        ],
        [
         "44",
         "45",
         "B085G58KWT",
         "Echo (4th generation) | Premium sound Wi-Fi and Bluetooth smart speaker with Dolby, smart home hub and Alexa | Charcoal",
         "4.7",
         "38692",
         "49.99",
         "False",
         "0",
         "Hi-Fi Speakers"
        ],
        [
         "45",
         "46",
         "B07F9NGRKF",
         "EWA Travel Case Packed, A106 Pro Wireless Mini Bluetooth Speaker with Custom Bass Radiator. IP67 Waterproof, Small But Loud, Portable Speakers for Car, Bike, Outdoors, Shower (Black)",
         "4.6",
         "40628",
         "17.99",
         "False",
         "0",
         "Hi-Fi Speakers"
        ],
        [
         "46",
         "47",
         "B08LQNL42Z",
         "soundcore Anker Motion Boom Portable Bluetooth Speaker with Titanium Drivers, BassUp Technology, IPX7 Waterproof, 24H Playtime, App, Bluetooth 5.0, for Home, Party, Outdoors",
         "4.7",
         "18958",
         "89.99",
         "False",
         "0",
         "Hi-Fi Speakers"
        ],
        [
         "47",
         "48",
         "B07PCHL3ZZ",
         "Bedside Lamp with Alarm Clock Bluetooth Speaker, Night Light Bedroom Decor RGB Color Changing LED Mood Bedroom Table Lamp Birthday Gifts for her for Teenage Girls Boy, Mum Gifts Women Kids",
         "4.5",
         "2408",
         "29.99",
         "False",
         "0",
         "Hi-Fi Speakers"
        ],
        [
         "48",
         "49",
         "B0CD1H4NYH",
         "ULTIMEA Dolby Atmos Sound Bar for TV, Soundbar for 3D Surround Sound System, Bluetooth Soundbar for TV with Subwoofer, Deep Bass Adjustable, Slim TV Sound Bar, Home Theater Soundbar Speaker, Nova S50",
         "4.5",
         "239",
         "129.99",
         "False",
         "0",
         "Hi-Fi Speakers"
        ],
        [
         "49",
         "50",
         "B0BXPZ792G",
         "Samsung Q930C Soundbar Speaker (2023) - 17 Speaker Home Sound System With Adaptive Sound, Wireless Dolby Atmos And Wireless Subwoofer, Alexa Built In, Smart Surround Sound, Bluetooth, WiFi & Airplay",
         "4.1",
         "7",
         "628.5",
         "False",
         "0",
         "Hi-Fi Speakers"
        ]
       ],
       "shape": {
        "columns": 9,
        "rows": 2443651
       }
      },
      "text/html": [
       "<div>\n",
       "<style scoped>\n",
       "    .dataframe tbody tr th:only-of-type {\n",
       "        vertical-align: middle;\n",
       "    }\n",
       "\n",
       "    .dataframe tbody tr th {\n",
       "        vertical-align: top;\n",
       "    }\n",
       "\n",
       "    .dataframe thead th {\n",
       "        text-align: right;\n",
       "    }\n",
       "</style>\n",
       "<table border=\"1\" class=\"dataframe\">\n",
       "  <thead>\n",
       "    <tr style=\"text-align: right;\">\n",
       "      <th></th>\n",
       "      <th>uid</th>\n",
       "      <th>asin</th>\n",
       "      <th>title</th>\n",
       "      <th>stars</th>\n",
       "      <th>reviews</th>\n",
       "      <th>price</th>\n",
       "      <th>isBestSeller</th>\n",
       "      <th>boughtInLastMonth</th>\n",
       "      <th>category</th>\n",
       "    </tr>\n",
       "  </thead>\n",
       "  <tbody>\n",
       "    <tr>\n",
       "      <th>0</th>\n",
       "      <td>1</td>\n",
       "      <td>B09B96TG33</td>\n",
       "      <td>Echo Dot (5th generation, 2022 release) | Big ...</td>\n",
       "      <td>4.7</td>\n",
       "      <td>15308</td>\n",
       "      <td>21.99</td>\n",
       "      <td>False</td>\n",
       "      <td>0</td>\n",
       "      <td>Hi-Fi Speakers</td>\n",
       "    </tr>\n",
       "    <tr>\n",
       "      <th>1</th>\n",
       "      <td>2</td>\n",
       "      <td>B01HTH3C8S</td>\n",
       "      <td>Anker Soundcore mini, Super-Portable Bluetooth...</td>\n",
       "      <td>4.7</td>\n",
       "      <td>98099</td>\n",
       "      <td>23.99</td>\n",
       "      <td>True</td>\n",
       "      <td>0</td>\n",
       "      <td>Hi-Fi Speakers</td>\n",
       "    </tr>\n",
       "    <tr>\n",
       "      <th>2</th>\n",
       "      <td>3</td>\n",
       "      <td>B09B8YWXDF</td>\n",
       "      <td>Echo Dot (5th generation, 2022 release) | Big ...</td>\n",
       "      <td>4.7</td>\n",
       "      <td>15308</td>\n",
       "      <td>21.99</td>\n",
       "      <td>False</td>\n",
       "      <td>0</td>\n",
       "      <td>Hi-Fi Speakers</td>\n",
       "    </tr>\n",
       "    <tr>\n",
       "      <th>3</th>\n",
       "      <td>4</td>\n",
       "      <td>B09B8T5VGV</td>\n",
       "      <td>Echo Dot with clock (5th generation, 2022 rele...</td>\n",
       "      <td>4.7</td>\n",
       "      <td>7205</td>\n",
       "      <td>31.99</td>\n",
       "      <td>False</td>\n",
       "      <td>0</td>\n",
       "      <td>Hi-Fi Speakers</td>\n",
       "    </tr>\n",
       "    <tr>\n",
       "      <th>4</th>\n",
       "      <td>5</td>\n",
       "      <td>B09WX6QD65</td>\n",
       "      <td>Introducing Echo Pop | Full sound compact Wi-F...</td>\n",
       "      <td>4.6</td>\n",
       "      <td>1881</td>\n",
       "      <td>17.99</td>\n",
       "      <td>False</td>\n",
       "      <td>0</td>\n",
       "      <td>Hi-Fi Speakers</td>\n",
       "    </tr>\n",
       "    <tr>\n",
       "      <th>...</th>\n",
       "      <td>...</td>\n",
       "      <td>...</td>\n",
       "      <td>...</td>\n",
       "      <td>...</td>\n",
       "      <td>...</td>\n",
       "      <td>...</td>\n",
       "      <td>...</td>\n",
       "      <td>...</td>\n",
       "      <td>...</td>\n",
       "    </tr>\n",
       "    <tr>\n",
       "      <th>2443646</th>\n",
       "      <td>2828589</td>\n",
       "      <td>B0CHSD7P2Q</td>\n",
       "      <td>Motorbike Armour, Motorbike Clothing, Cycling ...</td>\n",
       "      <td>0.0</td>\n",
       "      <td>0</td>\n",
       "      <td>22.34</td>\n",
       "      <td>False</td>\n",
       "      <td>0</td>\n",
       "      <td>Motorbike Clothing</td>\n",
       "    </tr>\n",
       "    <tr>\n",
       "      <th>2443647</th>\n",
       "      <td>2828590</td>\n",
       "      <td>B0B7B8FNBQ</td>\n",
       "      <td>PROFIRST Waterproof Motorcycle 2 Piece Ladies ...</td>\n",
       "      <td>0.0</td>\n",
       "      <td>0</td>\n",
       "      <td>97.99</td>\n",
       "      <td>False</td>\n",
       "      <td>0</td>\n",
       "      <td>Motorbike Clothing</td>\n",
       "    </tr>\n",
       "    <tr>\n",
       "      <th>2443648</th>\n",
       "      <td>2828591</td>\n",
       "      <td>B0BD5FL5FB</td>\n",
       "      <td>Men’s Motorcycle Motorbike Biker Trousers Kevl...</td>\n",
       "      <td>0.0</td>\n",
       "      <td>0</td>\n",
       "      <td>52.99</td>\n",
       "      <td>False</td>\n",
       "      <td>0</td>\n",
       "      <td>Motorbike Clothing</td>\n",
       "    </tr>\n",
       "    <tr>\n",
       "      <th>2443649</th>\n",
       "      <td>2828592</td>\n",
       "      <td>B008OYLL4I</td>\n",
       "      <td>Texpeed Mens Motorcycle Motorbike Biker Trouse...</td>\n",
       "      <td>4.3</td>\n",
       "      <td>404</td>\n",
       "      <td>79.99</td>\n",
       "      <td>False</td>\n",
       "      <td>0</td>\n",
       "      <td>Motorbike Clothing</td>\n",
       "    </tr>\n",
       "    <tr>\n",
       "      <th>2443650</th>\n",
       "      <td>2828593</td>\n",
       "      <td>B08P3W9B3T</td>\n",
       "      <td>RIDEX CJ223 Motorcycle Motorbike Jacket Armour...</td>\n",
       "      <td>4.5</td>\n",
       "      <td>34</td>\n",
       "      <td>53.99</td>\n",
       "      <td>False</td>\n",
       "      <td>0</td>\n",
       "      <td>Motorbike Clothing</td>\n",
       "    </tr>\n",
       "  </tbody>\n",
       "</table>\n",
       "<p>2443651 rows × 9 columns</p>\n",
       "</div>"
      ],
      "text/plain": [
       "             uid        asin  \\\n",
       "0              1  B09B96TG33   \n",
       "1              2  B01HTH3C8S   \n",
       "2              3  B09B8YWXDF   \n",
       "3              4  B09B8T5VGV   \n",
       "4              5  B09WX6QD65   \n",
       "...          ...         ...   \n",
       "2443646  2828589  B0CHSD7P2Q   \n",
       "2443647  2828590  B0B7B8FNBQ   \n",
       "2443648  2828591  B0BD5FL5FB   \n",
       "2443649  2828592  B008OYLL4I   \n",
       "2443650  2828593  B08P3W9B3T   \n",
       "\n",
       "                                                     title  stars  reviews  \\\n",
       "0        Echo Dot (5th generation, 2022 release) | Big ...    4.7    15308   \n",
       "1        Anker Soundcore mini, Super-Portable Bluetooth...    4.7    98099   \n",
       "2        Echo Dot (5th generation, 2022 release) | Big ...    4.7    15308   \n",
       "3        Echo Dot with clock (5th generation, 2022 rele...    4.7     7205   \n",
       "4        Introducing Echo Pop | Full sound compact Wi-F...    4.6     1881   \n",
       "...                                                    ...    ...      ...   \n",
       "2443646  Motorbike Armour, Motorbike Clothing, Cycling ...    0.0        0   \n",
       "2443647  PROFIRST Waterproof Motorcycle 2 Piece Ladies ...    0.0        0   \n",
       "2443648  Men’s Motorcycle Motorbike Biker Trousers Kevl...    0.0        0   \n",
       "2443649  Texpeed Mens Motorcycle Motorbike Biker Trouse...    4.3      404   \n",
       "2443650  RIDEX CJ223 Motorcycle Motorbike Jacket Armour...    4.5       34   \n",
       "\n",
       "         price  isBestSeller  boughtInLastMonth            category  \n",
       "0        21.99         False                  0      Hi-Fi Speakers  \n",
       "1        23.99          True                  0      Hi-Fi Speakers  \n",
       "2        21.99         False                  0      Hi-Fi Speakers  \n",
       "3        31.99         False                  0      Hi-Fi Speakers  \n",
       "4        17.99         False                  0      Hi-Fi Speakers  \n",
       "...        ...           ...                ...                 ...  \n",
       "2443646  22.34         False                  0  Motorbike Clothing  \n",
       "2443647  97.99         False                  0  Motorbike Clothing  \n",
       "2443648  52.99         False                  0  Motorbike Clothing  \n",
       "2443649  79.99         False                  0  Motorbike Clothing  \n",
       "2443650  53.99         False                  0  Motorbike Clothing  \n",
       "\n",
       "[2443651 rows x 9 columns]"
      ]
     },
     "execution_count": 6,
     "metadata": {},
     "output_type": "execute_result"
    }
   ],
   "source": [
    "df"
   ]
  },
  {
   "cell_type": "code",
   "execution_count": null,
   "id": "40b1070b",
   "metadata": {},
   "outputs": [],
   "source": [
    "\"\"\"\n",
    "Frequency Tables:\n",
    "\n",
    "Generate a frequency table for the product category.\n",
    "Which are the top 5 most listed product categories?\n",
    "\n",
    "\"\"\""
   ]
  },
  {
   "cell_type": "code",
   "execution_count": 7,
   "id": "c4442933",
   "metadata": {},
   "outputs": [],
   "source": [
    "df_category = df['category']"
   ]
  },
  {
   "cell_type": "code",
   "execution_count": null,
   "id": "f704f8d9",
   "metadata": {},
   "outputs": [
    {
     "data": {
      "text/plain": [
       "0              Hi-Fi Speakers\n",
       "1              Hi-Fi Speakers\n",
       "2              Hi-Fi Speakers\n",
       "3              Hi-Fi Speakers\n",
       "4              Hi-Fi Speakers\n",
       "                  ...        \n",
       "2443646    Motorbike Clothing\n",
       "2443647    Motorbike Clothing\n",
       "2443648    Motorbike Clothing\n",
       "2443649    Motorbike Clothing\n",
       "2443650    Motorbike Clothing\n",
       "Name: category, Length: 2443651, dtype: object"
      ]
     },
     "metadata": {},
     "output_type": "display_data"
    }
   ],
   "source": [
    "df_category"
   ]
  },
  {
   "cell_type": "code",
   "execution_count": 14,
   "id": "c3765f54",
   "metadata": {},
   "outputs": [
    {
     "data": {
      "application/vnd.microsoft.datawrangler.viewer.v0+json": {
       "columns": [
        {
         "name": "category",
         "rawType": "object",
         "type": "string"
        },
        {
         "name": "count",
         "rawType": "int64",
         "type": "integer"
        }
       ],
       "conversionMethod": "pd.DataFrame",
       "ref": "6a5270a9-9942-4d86-ad15-837aaa191074",
       "rows": [
        [
         "Sports & Outdoors",
         "836265"
        ],
        [
         "Beauty",
         "19312"
        ],
        [
         "Handmade Clothing, Shoes & Accessories",
         "19229"
        ],
        [
         "Bath & Body",
         "19092"
        ],
        [
         "Birthday Gifts",
         "18978"
        ]
       ],
       "shape": {
        "columns": 1,
        "rows": 5
       }
      },
      "text/html": [
       "<div>\n",
       "<style scoped>\n",
       "    .dataframe tbody tr th:only-of-type {\n",
       "        vertical-align: middle;\n",
       "    }\n",
       "\n",
       "    .dataframe tbody tr th {\n",
       "        vertical-align: top;\n",
       "    }\n",
       "\n",
       "    .dataframe thead th {\n",
       "        text-align: right;\n",
       "    }\n",
       "</style>\n",
       "<table border=\"1\" class=\"dataframe\">\n",
       "  <thead>\n",
       "    <tr style=\"text-align: right;\">\n",
       "      <th>col_0</th>\n",
       "      <th>count</th>\n",
       "    </tr>\n",
       "    <tr>\n",
       "      <th>category</th>\n",
       "      <th></th>\n",
       "    </tr>\n",
       "  </thead>\n",
       "  <tbody>\n",
       "    <tr>\n",
       "      <th>Sports &amp; Outdoors</th>\n",
       "      <td>836265</td>\n",
       "    </tr>\n",
       "    <tr>\n",
       "      <th>Beauty</th>\n",
       "      <td>19312</td>\n",
       "    </tr>\n",
       "    <tr>\n",
       "      <th>Handmade Clothing, Shoes &amp; Accessories</th>\n",
       "      <td>19229</td>\n",
       "    </tr>\n",
       "    <tr>\n",
       "      <th>Bath &amp; Body</th>\n",
       "      <td>19092</td>\n",
       "    </tr>\n",
       "    <tr>\n",
       "      <th>Birthday Gifts</th>\n",
       "      <td>18978</td>\n",
       "    </tr>\n",
       "  </tbody>\n",
       "</table>\n",
       "</div>"
      ],
      "text/plain": [
       "col_0                                    count\n",
       "category                                      \n",
       "Sports & Outdoors                       836265\n",
       "Beauty                                   19312\n",
       "Handmade Clothing, Shoes & Accessories   19229\n",
       "Bath & Body                              19092\n",
       "Birthday Gifts                           18978"
      ]
     },
     "execution_count": 14,
     "metadata": {},
     "output_type": "execute_result"
    }
   ],
   "source": [
    "df_category_freq = pd.crosstab(index = df_category, columns=\"count\") \n",
    "df_category_freq_sorted = df_category_freq.sort_values(by='count', ascending=False).head(5)\n",
    "df_category_freq_sorted"
   ]
  },
  {
   "cell_type": "code",
   "execution_count": null,
   "id": "a07e8890",
   "metadata": {},
   "outputs": [],
   "source": [
    "\"\"\"\n",
    "Visualizations:\n",
    "\n",
    "Display the distribution of products across different categories using a bar chart. If you face problems understanding the chart, do it for a subset of top categories.\n",
    "For a subset of top categories, visualize their proportions using a pie chart. Does any category dominate the listings?\n",
    "\n",
    "\"\"\""
   ]
  },
  {
   "cell_type": "code",
   "execution_count": 22,
   "id": "36e8a892",
   "metadata": {},
   "outputs": [
    {
     "name": "stderr",
     "output_type": "stream",
     "text": [
      "C:\\Users\\estif\\AppData\\Local\\Temp\\ipykernel_6504\\3695154433.py:1: FutureWarning: \n",
      "\n",
      "Passing `palette` without assigning `hue` is deprecated and will be removed in v0.14.0. Assign the `y` variable to `hue` and set `legend=False` for the same effect.\n",
      "\n",
      "  sns.barplot(x=df_category_freq_sorted['count'], y=df_category_freq_sorted.index, palette=\"Set3\")\n"
     ]
    },
    {
     "data": {
      "image/png": "[encoded data removed]",
      "text/plain": [
       "<Figure size 640x480 with 1 Axes>"
      ]
     },
     "metadata": {},
     "output_type": "display_data"
    }
   ],
   "source": [
    "sns.barplot(x=df_category_freq_sorted['count'], y=df_category_freq_sorted.index, palette=\"Set3\")\n",
    "plt.show()"
   ]
  },
  {
   "cell_type": "code",
   "execution_count": 26,
   "id": "39afe971",
   "metadata": {},
   "outputs": [
    {
     "data": {
      "image/png": "[encoded data removed]",
      "text/plain": [
       "<Figure size 640x480 with 1 Axes>"
      ]
     },
     "metadata": {},
     "output_type": "display_data"
    }
   ],
   "source": [
    "plt.pie(df_category_freq_sorted['count'], labels=df_category_freq_sorted.index, colors=sns.color_palette(\"Set3\", n_colors=len(df_category_freq)), autopct='%1.1f%%')\n",
    "plt.show()\n"
   ]
  },
  {
   "cell_type": "code",
   "execution_count": null,
   "id": "12877dc1",
   "metadata": {},
   "outputs": [],
   "source": [
    "\"\"\"\n",
    "Measures of Centrality:\n",
    "\n",
    "Calculate the mean, median, and mode for the price of products.\n",
    "What's the average price point of products listed? How does this compare with the most common price point (mode)?\n",
    "\n",
    "\"\"\""
   ]
  },
  {
   "cell_type": "code",
   "execution_count": 37,
   "id": "c4099ea8",
   "metadata": {},
   "outputs": [],
   "source": [
    "df_category_price = df[['category', 'price']]"
   ]
  },
  {
   "cell_type": "code",
   "execution_count": 38,
   "id": "d74b6fdf",
   "metadata": {},
   "outputs": [],
   "source": [
    "df_category_price_stats = df_category_price.groupby('category')['price'].agg(\n",
    "    mean='mean',\n",
    "    median='median',\n",
    "    mode=lambda x: x.mode()[0]\n",
    ")"
   ]
  },
  {
   "cell_type": "code",
   "execution_count": 39,
   "id": "8cc02b11",
   "metadata": {},
   "outputs": [],
   "source": [
    "df_category_price_stats_sorted = df_category_price_stats.sort_values(by='mean', ascending=False)"
   ]
  },
  {
   "cell_type": "code",
   "execution_count": 42,
   "id": "60fb2895",
   "metadata": {},
   "outputs": [
    {
     "data": {
      "application/vnd.microsoft.datawrangler.viewer.v0+json": {
       "columns": [
        {
         "name": "category",
         "rawType": "object",
         "type": "string"
        },
        {
         "name": "mean",
         "rawType": "float64",
         "type": "float"
        },
        {
         "name": "median",
         "rawType": "float64",
         "type": "float"
        },
        {
         "name": "mode",
         "rawType": "float64",
         "type": "float"
        }
       ],
       "conversionMethod": "pd.DataFrame",
       "ref": "1db1d12a-d873-4e22-b72d-38e8ce48e3c2",
       "rows": [
        [
         "Laptops",
         "1087.99",
         "1042.72",
         "499.0"
        ],
        [
         "3D Printers",
         "1018.04",
         "319.0",
         "499.0"
        ],
        [
         "Desktop PCs",
         "926.82",
         "810.4",
         "399.99"
        ],
        [
         "Home Office Furniture",
         "622.14",
         "96.97",
         "59.99"
        ],
        [
         "Test & Measurement",
         "559.38",
         "94.77",
         "1436.0"
        ],
        [
         "Home Audio Record Players",
         "529.67",
         "326.08",
         "6.99"
        ],
        [
         "CPUs",
         "514.52",
         "159.96",
         "7.99"
        ],
        [
         "Digital Cameras",
         "496.16",
         "94.99",
         "49.99"
        ],
        [
         "Material Handling Products",
         "487.19",
         "90.6",
         "19.99"
        ],
        [
         "Graphics Cards",
         "444.75",
         "259.98",
         "99.99"
        ],
        [
         "Garden Storage & Housing",
         "421.11",
         "146.0",
         "7.99"
        ],
        [
         "Lenses",
         "402.31",
         "249.99",
         "149.0"
        ],
        [
         "Wind Instruments",
         "391.59",
         "126.79",
         "9.99"
        ],
        [
         "Bedding Collections",
         "374.78",
         "136.72",
         "31.99"
        ],
        [
         "Motorbike Exhaust & Exhaust Systems",
         "366.23",
         "313.83",
         "133.14"
        ],
        [
         "Barebone PCs",
         "365.46",
         "244.99",
         "9.89"
        ],
        [
         "Uninterruptible Power Supply Units & Accessories",
         "359.99",
         "73.89",
         "27.99"
        ],
        [
         "Billiard, Snooker & Pool",
         "356.19",
         "15.99",
         "10.99"
        ],
        [
         "Snowboards",
         "351.64",
         "366.72",
         "289.05"
        ],
        [
         "Lab & Scientific Products",
         "349.07",
         "108.21",
         "1030.48"
        ],
        [
         "Projectors",
         "343.05",
         "146.09",
         "149.94"
        ],
        [
         "Binoculars, Telescopes & Optics",
         "340.36",
         "105.43",
         "29.99"
        ],
        [
         "Home Entertainment",
         "331.18",
         "226.0",
         "34.99"
        ],
        [
         "Computer Printers",
         "322.6",
         "104.65",
         "55.76"
        ],
        [
         "Professional Medical Supplies",
         "316.24",
         "39.08",
         "5.99"
        ],
        [
         "PA & Stage",
         "300.32",
         "194.07",
         "199.0"
        ],
        [
         "Darts & Dartboards",
         "284.53",
         "39.99",
         "14.99"
        ],
        [
         "Monitors",
         "266.54",
         "115.89",
         "57.39"
        ],
        [
         "Outdoor Heaters & Fire Pits",
         "262.8",
         "79.99",
         "99.99"
        ],
        [
         "String Instruments",
         "254.03",
         "27.58",
         "5.99"
        ],
        [
         "Snowboard Boots",
         "247.96",
         "258.99",
         "365.99"
        ],
        [
         "Camcorders",
         "246.81",
         "69.99",
         "69.99"
        ],
        [
         "Downhill Ski Boots",
         "246.32",
         "224.4",
         "52.19"
        ],
        [
         "Home Brewing & Wine Making",
         "227.64",
         "19.97",
         "8.99"
        ],
        [
         "Decking & Fencing",
         "227.32",
         "163.49",
         "146.33"
        ],
        [
         "Digital Frames",
         "224.09",
         "134.44",
         "69.99"
        ],
        [
         "Alexa Built-In Devices",
         "223.0",
         "149.99",
         "29.99"
        ],
        [
         "Mobile Phones & Smartphones",
         "215.86",
         "99.98",
         "119.99"
        ],
        [
         "Fireplaces, Stoves & Accessories",
         "207.5",
         "32.99",
         "29.99"
        ],
        [
         "Downhill Skis",
         "196.85",
         "45.09",
         "44.99"
        ],
        [
         "Motherboards",
         "184.02",
         "148.44",
         "139.99"
        ],
        [
         "Cookware",
         "180.48",
         "43.0",
         "24.99"
        ],
        [
         "Snowboard Bindings",
         "178.03",
         "165.26",
         "7.19"
        ],
        [
         "Motorbike Boots & Luggage",
         "172.38",
         "143.82",
         "54.99"
        ],
        [
         "Computer & Server Racks",
         "165.71",
         "84.29",
         "24.99"
        ],
        [
         "Tablets",
         "164.81",
         "92.09",
         "91.29"
        ],
        [
         "Kitchen Storage & Organisation",
         "162.95",
         "23.99",
         "15.99"
        ],
        [
         "Flashes",
         "148.45",
         "61.15",
         "200.0"
        ],
        [
         "Coffee & Espresso Machines",
         "148.38",
         "79.99",
         "99.99"
        ],
        [
         "Surveillance Cameras",
         "145.59",
         "47.72",
         "49.99"
        ]
       ],
       "shape": {
        "columns": 3,
        "rows": 296
       }
      },
      "text/html": [
       "<div>\n",
       "<style scoped>\n",
       "    .dataframe tbody tr th:only-of-type {\n",
       "        vertical-align: middle;\n",
       "    }\n",
       "\n",
       "    .dataframe tbody tr th {\n",
       "        vertical-align: top;\n",
       "    }\n",
       "\n",
       "    .dataframe thead th {\n",
       "        text-align: right;\n",
       "    }\n",
       "</style>\n",
       "<table border=\"1\" class=\"dataframe\">\n",
       "  <thead>\n",
       "    <tr style=\"text-align: right;\">\n",
       "      <th></th>\n",
       "      <th>mean</th>\n",
       "      <th>median</th>\n",
       "      <th>mode</th>\n",
       "    </tr>\n",
       "    <tr>\n",
       "      <th>category</th>\n",
       "      <th></th>\n",
       "      <th></th>\n",
       "      <th></th>\n",
       "    </tr>\n",
       "  </thead>\n",
       "  <tbody>\n",
       "    <tr>\n",
       "      <th>Laptops</th>\n",
       "      <td>1087.99</td>\n",
       "      <td>1042.72</td>\n",
       "      <td>499.00</td>\n",
       "    </tr>\n",
       "    <tr>\n",
       "      <th>3D Printers</th>\n",
       "      <td>1018.04</td>\n",
       "      <td>319.00</td>\n",
       "      <td>499.00</td>\n",
       "    </tr>\n",
       "    <tr>\n",
       "      <th>Desktop PCs</th>\n",
       "      <td>926.82</td>\n",
       "      <td>810.40</td>\n",
       "      <td>399.99</td>\n",
       "    </tr>\n",
       "    <tr>\n",
       "      <th>Home Office Furniture</th>\n",
       "      <td>622.14</td>\n",
       "      <td>96.97</td>\n",
       "      <td>59.99</td>\n",
       "    </tr>\n",
       "    <tr>\n",
       "      <th>Test &amp; Measurement</th>\n",
       "      <td>559.38</td>\n",
       "      <td>94.77</td>\n",
       "      <td>1436.00</td>\n",
       "    </tr>\n",
       "    <tr>\n",
       "      <th>...</th>\n",
       "      <td>...</td>\n",
       "      <td>...</td>\n",
       "      <td>...</td>\n",
       "    </tr>\n",
       "    <tr>\n",
       "      <th>Bedding Accessories</th>\n",
       "      <td>8.84</td>\n",
       "      <td>7.09</td>\n",
       "      <td>7.99</td>\n",
       "    </tr>\n",
       "    <tr>\n",
       "      <th>Adapters</th>\n",
       "      <td>8.75</td>\n",
       "      <td>7.05</td>\n",
       "      <td>7.99</td>\n",
       "    </tr>\n",
       "    <tr>\n",
       "      <th>Signs &amp; Plaques</th>\n",
       "      <td>8.28</td>\n",
       "      <td>6.99</td>\n",
       "      <td>3.99</td>\n",
       "    </tr>\n",
       "    <tr>\n",
       "      <th>Arts &amp; Crafts</th>\n",
       "      <td>8.18</td>\n",
       "      <td>5.99</td>\n",
       "      <td>3.99</td>\n",
       "    </tr>\n",
       "    <tr>\n",
       "      <th>Office Paper Products</th>\n",
       "      <td>7.05</td>\n",
       "      <td>4.38</td>\n",
       "      <td>3.99</td>\n",
       "    </tr>\n",
       "  </tbody>\n",
       "</table>\n",
       "<p>296 rows × 3 columns</p>\n",
       "</div>"
      ],
      "text/plain": [
       "                          mean   median     mode\n",
       "category                                        \n",
       "Laptops                1087.99  1042.72   499.00\n",
       "3D Printers            1018.04   319.00   499.00\n",
       "Desktop PCs             926.82   810.40   399.99\n",
       "Home Office Furniture   622.14    96.97    59.99\n",
       "Test & Measurement      559.38    94.77  1436.00\n",
       "...                        ...      ...      ...\n",
       "Bedding Accessories       8.84     7.09     7.99\n",
       "Adapters                  8.75     7.05     7.99\n",
       "Signs & Plaques           8.28     6.99     3.99\n",
       "Arts & Crafts             8.18     5.99     3.99\n",
       "Office Paper Products     7.05     4.38     3.99\n",
       "\n",
       "[296 rows x 3 columns]"
      ]
     },
     "execution_count": 42,
     "metadata": {},
     "output_type": "execute_result"
    }
   ],
   "source": [
    "df_category_price_stats_sorted.round(2)"
   ]
  },
  {
   "cell_type": "code",
   "execution_count": 43,
   "id": "609f1f7f",
   "metadata": {},
   "outputs": [
    {
     "name": "stdout",
     "output_type": "stream",
     "text": [
      "Average price: 89.24\n",
      "Most common price (mode): 9.99\n",
      "The average price is higher than the most common price.\n"
     ]
    }
   ],
   "source": [
    "average_price = df['price'].mean()\n",
    "\n",
    "most_common_price = df['price'].mode()[0]\n",
    "\n",
    "print(f\"Average price: {average_price:.2f}\")\n",
    "print(f\"Most common price (mode): {most_common_price:.2f}\")\n",
    "\n",
    "if average_price > most_common_price:\n",
    "    print(\"The average price is higher than the most common price.\")\n",
    "elif average_price < most_common_price:\n",
    "    print(\"The average price is lower than the most common price.\")\n",
    "else:\n",
    "    print(\"The average price is the same as the most common price.\")"
   ]
  },
  {
   "cell_type": "code",
   "execution_count": null,
   "id": "74fda537",
   "metadata": {},
   "outputs": [],
   "source": [
    "\"\"\"\n",
    "\n",
    "Measures of Dispersion:\n",
    "\n",
    "Determine the variance, standard deviation, range, and interquartile range for product price.\n",
    "How varied are the product prices? Are there any indicators of a significant spread in prices?\n",
    "\n",
    "\"\"\""
   ]
  },
  {
   "cell_type": "code",
   "execution_count": null,
   "id": "dfc3fffe",
   "metadata": {},
   "outputs": [
    {
     "data": {
      "text/plain": [
       "(119445.48532256528,\n",
       " 345.60886175352226,\n",
       " 0.0,\n",
       " 100000.0,\n",
       " 100000.0,\n",
       " 0.25     9.99\n",
       " 0.50    19.09\n",
       " 0.75    45.99\n",
       " Name: price, dtype: float64)"
      ]
     },
     "execution_count": 47,
     "metadata": {},
     "output_type": "execute_result"
    }
   ],
   "source": [
    "variance_price = df['price'].var()\n",
    "std_dev_price = df['price'].std()\n",
    "min_price = df['price'].min()\n",
    "max_price = df['price'].max()\n",
    "range_price = max_price - min_price\n",
    "quantiles_price = df['price'].quantile([0.25, 0.5, 0.75])\n",
    "Q1_price = df['price'].quantile(0.25)\n",
    "Q3_price = df['price'].quantile(0.75)\n",
    "IQR_price = Q3_price - Q1_price\n",
    "variance_price, std_dev_price, min_price, max_price, range_price, quantiles_price"
   ]
  },
  {
   "cell_type": "code",
   "execution_count": null,
   "id": "6e97f654",
   "metadata": {},
   "outputs": [
    {
     "name": "stdout",
     "output_type": "stream",
     "text": [
      "The prices are highly spread out, with significant variation.\n"
     ]
    }
   ],
   "source": [
    "if std_dev_price > IQR_price:\n",
    "    print(\"The prices are highly spread out, with significant variation.\")\n",
    "else:\n",
    "    print(\"The prices are relatively consistent with moderate variation.\")"
   ]
  },
  {
   "cell_type": "code",
   "execution_count": 50,
   "id": "5eb7554e",
   "metadata": {},
   "outputs": [
    {
     "data": {
      "text/plain": [
       "(27.492977566280338, 4241.616412866518)"
      ]
     },
     "execution_count": 50,
     "metadata": {},
     "output_type": "execute_result"
    }
   ],
   "source": [
    "skewness_price = df['price'].skew()\n",
    "kurtosis_price = df['price'].kurtosis()\n",
    "\n",
    "skewness_price, kurtosis_price"
   ]
  },
  {
   "cell_type": "code",
   "execution_count": 99,
   "id": "5ca813ba",
   "metadata": {},
   "outputs": [
    {
     "name": "stdout",
     "output_type": "stream",
     "text": [
      "Skewness: 27.492977566280338\n",
      "The distribution is right-skewed (positive skew). There are more lower prices with a few high prices.\n",
      "Kurtosis: 4241.616412866518\n",
      "The distribution has high kurtosis (leptokurtic). It has heavy tails and more outliers.\n"
     ]
    }
   ],
   "source": [
    "print(f\"Skewness: {skewness_price}\")\n",
    "if skewness_price > 0:\n",
    "    print(\"The distribution is right-skewed (positive skew). There are more lower prices with a few high prices.\")\n",
    "elif skewness_price < 0:\n",
    "    print(\"The distribution is left-skewed (negative skew). There are more high prices with a few low prices.\")\n",
    "else:\n",
    "    print(\"The distribution is approximately symmetric.\")\n",
    "\n",
    "print(f\"Kurtosis: {kurtosis_price}\")\n",
    "if kurtosis_price > 3:\n",
    "    print(\"The distribution has high kurtosis (leptokurtic). It has heavy tails and more outliers.\")\n",
    "elif kurtosis_price < 3:\n",
    "    print(\"The distribution has low kurtosis (platykurtic). It has light tails and fewer outliers.\")\n",
    "else:\n",
    "    print(\"The distribution has a kurtosis close to 3 (mesokurtic), which is typical of a normal distribution.\")"
   ]
  },
  {
   "cell_type": "code",
   "execution_count": null,
   "id": "e71d840a",
   "metadata": {},
   "outputs": [],
   "source": [
    "\"\"\"\n",
    "\n",
    "Visualizations:\n",
    "\n",
    "Is there a specific price range where most products fall? Plot a histogram to visualize the distribution of product prices. If its hard to read these diagrams, think why this is, and explain how it could be solved..\n",
    "Are there products that are priced significantly higher than the rest? Use a box plot to showcase the spread and potential outliers in product pricing.\n",
    "\n",
    "\"\"\""
   ]
  },
  {
   "cell_type": "code",
   "execution_count": 65,
   "id": "83d733f1",
   "metadata": {},
   "outputs": [
    {
     "data": {
      "text/plain": [
       "Text(0, 0.5, 'Frequency')"
      ]
     },
     "execution_count": 65,
     "metadata": {},
     "output_type": "execute_result"
    },
    {
     "data": {
      "image/png": "[encoded data removed]",
      "text/plain": [
       "<Figure size 1000x600 with 1 Axes>"
      ]
     },
     "metadata": {},
     "output_type": "display_data"
    }
   ],
   "source": [
    "plt.figure(figsize=(10, 6))\n",
    "sns.histplot(df[df['price'] < 200]['price'], bins=50, kde=True, color='skyblue', edgecolor='black')\n",
    "\n",
    "plt.title('Distribution of Product Prices (Zoomed in on < $200)')\n",
    "plt.xlabel('Price')\n",
    "plt.ylabel('Frequency')"
   ]
  },
  {
   "cell_type": "code",
   "execution_count": 68,
   "id": "51d299df",
   "metadata": {},
   "outputs": [
    {
     "data": {
      "text/plain": [
       "<Axes: ylabel='price'>"
      ]
     },
     "execution_count": 68,
     "metadata": {},
     "output_type": "execute_result"
    },
    {
     "data": {
      "image/png": "[encoded data removed]",
      "text/plain": [
       "<Figure size 640x480 with 1 Axes>"
      ]
     },
     "metadata": {},
     "output_type": "display_data"
    }
   ],
   "source": [
    "sns.boxplot(data = df['price'], color=\"lightblue\")"
   ]
  },
  {
   "cell_type": "code",
   "execution_count": null,
   "id": "c8109a06",
   "metadata": {},
   "outputs": [
    {
     "data": {
      "image/png": "[encoded data removed]",
      "text/plain": [
       "<Figure size 1000x600 with 1 Axes>"
      ]
     },
     "metadata": {},
     "output_type": "display_data"
    }
   ],
   "source": [
    "df['log_price'] = np.log(df['price'] + 1)\n",
    "\n",
    "plt.figure(figsize=(10, 6))\n",
    "sns.boxplot(data=df['log_price'], color=\"lightblue\", linewidth=2)\n",
    "plt.title('Log-transformed Product Price Distribution', fontsize=16)\n",
    "plt.xlabel('Log(Price)', fontsize=14)\n",
    "plt.ylabel('Products', fontsize=14)\n",
    "plt.grid(True, linestyle='--', alpha=0.6)\n",
    "plt.show()"
   ]
  },
  {
   "cell_type": "code",
   "execution_count": null,
   "id": "6c5cf9e8",
   "metadata": {},
   "outputs": [],
   "source": [
    "\"\"\"\n",
    "\n",
    "Measures of Centrality:\n",
    "\n",
    "Calculate the mean, median, and mode for the rating of products.\n",
    "How do customers generally rate products? Is there a common trend?\n",
    "\n",
    "\"\"\""
   ]
  },
  {
   "cell_type": "code",
   "execution_count": 75,
   "id": "ad0d9b2c",
   "metadata": {},
   "outputs": [],
   "source": [
    "df_category_stars_stats = df.groupby('category')['stars'].agg(\n",
    "    mean='mean',\n",
    "    median='median',\n",
    "    mode=lambda x: x.mode()[0]\n",
    ")"
   ]
  },
  {
   "cell_type": "code",
   "execution_count": 78,
   "id": "5f330545",
   "metadata": {},
   "outputs": [],
   "source": [
    "df_category_stars_stats_sorted = df_category_stars_stats.sort_values(by='mean', ascending=False)"
   ]
  },
  {
   "cell_type": "code",
   "execution_count": 80,
   "id": "aca3a698",
   "metadata": {},
   "outputs": [
    {
     "data": {
      "application/vnd.microsoft.datawrangler.viewer.v0+json": {
       "columns": [
        {
         "name": "category",
         "rawType": "object",
         "type": "string"
        },
        {
         "name": "mean",
         "rawType": "float64",
         "type": "float"
        },
        {
         "name": "median",
         "rawType": "float64",
         "type": "float"
        },
        {
         "name": "mode",
         "rawType": "float64",
         "type": "float"
        }
       ],
       "conversionMethod": "pd.DataFrame",
       "ref": "4df08829-88de-4c4f-880f-7e9db4ceba29",
       "rows": [
        [
         "Luxury Food & Drink",
         "4.55",
         "4.6",
         "4.7"
        ],
        [
         "Grocery",
         "4.47",
         "4.5",
         "4.6"
        ],
        [
         "Laptop Accessories",
         "4.45",
         "4.6",
         "4.6"
        ],
        [
         "Health & Personal Care",
         "4.44",
         "4.5",
         "4.5"
        ],
        [
         "Arts & Crafts",
         "4.43",
         "4.5",
         "4.6"
        ],
        [
         "Office Paper Products",
         "4.43",
         "4.6",
         "4.7"
        ],
        [
         "Customers' Most Loved",
         "4.41",
         "4.4",
         "4.5"
        ],
        [
         "Water Coolers, Filters & Cartridges",
         "4.36",
         "4.5",
         "4.5"
        ],
        [
         "USB Hubs",
         "4.36",
         "4.4",
         "4.5"
        ],
        [
         "Cables & Accessories",
         "4.34",
         "4.5",
         "4.6"
        ],
        [
         "Pet Supplies",
         "4.34",
         "4.4",
         "4.5"
        ],
        [
         "Power & Hand Tools",
         "4.33",
         "4.5",
         "4.5"
        ],
        [
         "Beauty",
         "4.32",
         "4.4",
         "4.5"
        ],
        [
         "Office Supplies",
         "4.32",
         "4.5",
         "4.5"
        ],
        [
         "Alexa Built-In Devices",
         "4.31",
         "4.3",
         "4.5"
        ],
        [
         "Storage & Organisation",
         "4.3",
         "4.4",
         "4.5"
        ],
        [
         "Mobile Phones & Communication",
         "4.3",
         "4.4",
         "4.4"
        ],
        [
         "Hardware",
         "4.3",
         "4.4",
         "4.5"
        ],
        [
         "Computer Memory",
         "4.29",
         "4.7",
         "4.7"
        ],
        [
         "Camera & Photo Accessories",
         "4.28",
         "4.5",
         "4.6"
        ],
        [
         "Photo Frames",
         "4.28",
         "4.5",
         "4.6"
        ],
        [
         "Home Cinema, TV & Video",
         "4.27",
         "4.4",
         "4.5"
        ],
        [
         "Torches",
         "4.27",
         "4.45",
         "4.6"
        ],
        [
         "Mobile Phone Accessories",
         "4.26",
         "4.4",
         "4.6"
        ],
        [
         "Lighting",
         "4.26",
         "4.4",
         "4.5"
        ],
        [
         "Computer Memory Card Accessories",
         "4.26",
         "4.4",
         "4.5"
        ],
        [
         "Lights and switches",
         "4.23",
         "4.3",
         "4.3"
        ],
        [
         "Men",
         "4.23",
         "4.4",
         "4.4"
        ],
        [
         "Clocks",
         "4.22",
         "4.3",
         "4.4"
        ],
        [
         "Pens, Pencils & Writing Supplies",
         "4.22",
         "4.5",
         "4.6"
        ],
        [
         "Hi-Fi & Home Audio Accessories",
         "4.2",
         "4.5",
         "4.6"
        ],
        [
         "Luggage and travel gear",
         "4.2",
         "4.4",
         "4.5"
        ],
        [
         "Electrical",
         "4.2",
         "4.4",
         "4.5"
        ],
        [
         "PC & Video Games",
         "4.19",
         "4.4",
         "4.6"
        ],
        [
         "Building Supplies",
         "4.19",
         "4.4",
         "4.5"
        ],
        [
         "Hobbies",
         "4.19",
         "4.6",
         "4.7"
        ],
        [
         "Bakeware",
         "4.18",
         "4.5",
         "4.6"
        ],
        [
         "Painting Supplies, Tools & Wall Treatments",
         "4.18",
         "4.4",
         "4.5"
        ],
        [
         "Computer Cases",
         "4.17",
         "4.5",
         "4.6"
        ],
        [
         "Kids' Play Figures",
         "4.17",
         "4.6",
         "4.7"
        ],
        [
         "Women",
         "4.17",
         "4.3",
         "4.4"
        ],
        [
         "Mirrors",
         "4.16",
         "4.3",
         "4.5"
        ],
        [
         "Children's Bedding",
         "4.15",
         "4.5",
         "4.5"
        ],
        [
         "Baby",
         "4.15",
         "4.5",
         "4.6"
        ],
        [
         "Hair Care",
         "4.15",
         "4.4",
         "4.5"
        ],
        [
         "Adapters",
         "4.14",
         "4.4",
         "4.4"
        ],
        [
         "Agricultural Equipment & Supplies",
         "4.14",
         "4.4",
         "4.5"
        ],
        [
         "Skin Care",
         "4.14",
         "4.4",
         "4.5"
        ],
        [
         "Gardening",
         "4.14",
         "4.3",
         "4.4"
        ],
        [
         "Safety & Security",
         "4.13",
         "4.4",
         "4.5"
        ]
       ],
       "shape": {
        "columns": 3,
        "rows": 296
       }
      },
      "text/html": [
       "<div>\n",
       "<style scoped>\n",
       "    .dataframe tbody tr th:only-of-type {\n",
       "        vertical-align: middle;\n",
       "    }\n",
       "\n",
       "    .dataframe tbody tr th {\n",
       "        vertical-align: top;\n",
       "    }\n",
       "\n",
       "    .dataframe thead th {\n",
       "        text-align: right;\n",
       "    }\n",
       "</style>\n",
       "<table border=\"1\" class=\"dataframe\">\n",
       "  <thead>\n",
       "    <tr style=\"text-align: right;\">\n",
       "      <th></th>\n",
       "      <th>mean</th>\n",
       "      <th>median</th>\n",
       "      <th>mode</th>\n",
       "    </tr>\n",
       "    <tr>\n",
       "      <th>category</th>\n",
       "      <th></th>\n",
       "      <th></th>\n",
       "      <th></th>\n",
       "    </tr>\n",
       "  </thead>\n",
       "  <tbody>\n",
       "    <tr>\n",
       "      <th>Luxury Food &amp; Drink</th>\n",
       "      <td>4.55</td>\n",
       "      <td>4.6</td>\n",
       "      <td>4.7</td>\n",
       "    </tr>\n",
       "    <tr>\n",
       "      <th>Grocery</th>\n",
       "      <td>4.47</td>\n",
       "      <td>4.5</td>\n",
       "      <td>4.6</td>\n",
       "    </tr>\n",
       "    <tr>\n",
       "      <th>Laptop Accessories</th>\n",
       "      <td>4.45</td>\n",
       "      <td>4.6</td>\n",
       "      <td>4.6</td>\n",
       "    </tr>\n",
       "    <tr>\n",
       "      <th>Health &amp; Personal Care</th>\n",
       "      <td>4.44</td>\n",
       "      <td>4.5</td>\n",
       "      <td>4.5</td>\n",
       "    </tr>\n",
       "    <tr>\n",
       "      <th>Arts &amp; Crafts</th>\n",
       "      <td>4.43</td>\n",
       "      <td>4.5</td>\n",
       "      <td>4.6</td>\n",
       "    </tr>\n",
       "    <tr>\n",
       "      <th>...</th>\n",
       "      <td>...</td>\n",
       "      <td>...</td>\n",
       "      <td>...</td>\n",
       "    </tr>\n",
       "    <tr>\n",
       "      <th>Motorbike Instruments</th>\n",
       "      <td>0.17</td>\n",
       "      <td>0.0</td>\n",
       "      <td>0.0</td>\n",
       "    </tr>\n",
       "    <tr>\n",
       "      <th>3D Printing &amp; Scanning</th>\n",
       "      <td>0.15</td>\n",
       "      <td>0.0</td>\n",
       "      <td>0.0</td>\n",
       "    </tr>\n",
       "    <tr>\n",
       "      <th>Motorbike Handlebars, Controls &amp; Grips</th>\n",
       "      <td>0.13</td>\n",
       "      <td>0.0</td>\n",
       "      <td>0.0</td>\n",
       "    </tr>\n",
       "    <tr>\n",
       "      <th>Motorbike Electrical &amp; Batteries</th>\n",
       "      <td>0.10</td>\n",
       "      <td>0.0</td>\n",
       "      <td>0.0</td>\n",
       "    </tr>\n",
       "    <tr>\n",
       "      <th>CD, Disc &amp; Tape Players</th>\n",
       "      <td>0.08</td>\n",
       "      <td>0.0</td>\n",
       "      <td>0.0</td>\n",
       "    </tr>\n",
       "  </tbody>\n",
       "</table>\n",
       "<p>296 rows × 3 columns</p>\n",
       "</div>"
      ],
      "text/plain": [
       "                                        mean  median  mode\n",
       "category                                                  \n",
       "Luxury Food & Drink                     4.55     4.6   4.7\n",
       "Grocery                                 4.47     4.5   4.6\n",
       "Laptop Accessories                      4.45     4.6   4.6\n",
       "Health & Personal Care                  4.44     4.5   4.5\n",
       "Arts & Crafts                           4.43     4.5   4.6\n",
       "...                                      ...     ...   ...\n",
       "Motorbike Instruments                   0.17     0.0   0.0\n",
       "3D Printing & Scanning                  0.15     0.0   0.0\n",
       "Motorbike Handlebars, Controls & Grips  0.13     0.0   0.0\n",
       "Motorbike Electrical & Batteries        0.10     0.0   0.0\n",
       "CD, Disc & Tape Players                 0.08     0.0   0.0\n",
       "\n",
       "[296 rows x 3 columns]"
      ]
     },
     "execution_count": 80,
     "metadata": {},
     "output_type": "execute_result"
    }
   ],
   "source": [
    "df_category_stars_stats_sorted.round(2)"
   ]
  },
  {
   "cell_type": "code",
   "execution_count": 91,
   "id": "e89bb03f",
   "metadata": {},
   "outputs": [],
   "source": [
    "df_stars_mode = df['stars'].mode()[0]"
   ]
  },
  {
   "cell_type": "code",
   "execution_count": 92,
   "id": "5dbaf24e",
   "metadata": {},
   "outputs": [
    {
     "data": {
      "text/plain": [
       "0.0"
      ]
     },
     "execution_count": 92,
     "metadata": {},
     "output_type": "execute_result"
    }
   ],
   "source": [
    "df_stars_mode"
   ]
  },
  {
   "cell_type": "code",
   "execution_count": null,
   "id": "e802353d",
   "metadata": {},
   "outputs": [],
   "source": [
    "\"\"\"\n",
    "\n",
    "Measures of Dispersion:\n",
    "\n",
    "Determine the variance, standard deviation, and interquartile range for product rating.\n",
    "Are the ratings consistent, or is there a wide variation in customer feedback?\n",
    "\n",
    "\"\"\""
   ]
  },
  {
   "cell_type": "code",
   "execution_count": 94,
   "id": "8e37613f",
   "metadata": {},
   "outputs": [
    {
     "data": {
      "text/plain": [
       "(4.81743402976196,\n",
       " 2.1948653785054697,\n",
       " 0.0,\n",
       " 5.0,\n",
       " 5.0,\n",
       " 0.25    0.0\n",
       " 0.50    0.0\n",
       " 0.75    4.4\n",
       " Name: stars, dtype: float64)"
      ]
     },
     "execution_count": 94,
     "metadata": {},
     "output_type": "execute_result"
    }
   ],
   "source": [
    "variance_stars = df['stars'].var()\n",
    "std_dev_stars = df['stars'].std()\n",
    "min_stars = df['stars'].min()\n",
    "max_stars = df['stars'].max()\n",
    "range_stars = max_price - min_price\n",
    "quantiles_stars = df['stars'].quantile([0.25, 0.5, 0.75])\n",
    "Q1_stars = df['stars'].quantile(0.25)\n",
    "Q3_stars = df['stars'].quantile(0.75)\n",
    "IQR_stars = Q3_stars - Q1_stars\n",
    "variance_stars, std_dev_stars, min_stars, max_stars, range_stars, quantiles_stars"
   ]
  },
  {
   "cell_type": "code",
   "execution_count": 95,
   "id": "c8612301",
   "metadata": {},
   "outputs": [
    {
     "name": "stdout",
     "output_type": "stream",
     "text": [
      "The ratings are relatively consistent with moderate variation.\n"
     ]
    }
   ],
   "source": [
    "if std_dev_stars > IQR_stars:\n",
    "    print(\"The ratings are highly spread out, with significant variation.\")\n",
    "else:\n",
    "    print(\"The ratings are relatively consistent with moderate variation.\")"
   ]
  },
  {
   "cell_type": "code",
   "execution_count": null,
   "id": "a95bf571",
   "metadata": {},
   "outputs": [],
   "source": [
    "\"\"\"\n",
    "\n",
    "Shape of the Distribution:\n",
    "\n",
    "Calculate the skewness and kurtosis for the rating column.\n",
    "Are the ratings normally distributed, or do they lean towards higher or lower values?\n",
    "\n",
    "\"\"\""
   ]
  },
  {
   "cell_type": "code",
   "execution_count": 96,
   "id": "934367c7",
   "metadata": {},
   "outputs": [
    {
     "data": {
      "text/plain": [
       "(27.492977566280338, 4241.616412866518)"
      ]
     },
     "execution_count": 96,
     "metadata": {},
     "output_type": "execute_result"
    }
   ],
   "source": [
    "skewness_stars = df['price'].skew()\n",
    "kurtosis_stars = df['price'].kurtosis()\n",
    "\n",
    "skewness_stars, kurtosis_stars"
   ]
  },
  {
   "cell_type": "code",
   "execution_count": 97,
   "id": "2d2d810c",
   "metadata": {},
   "outputs": [
    {
     "name": "stdout",
     "output_type": "stream",
     "text": [
      "Skewness: 27.492977566280338\n",
      "The distribution is right-skewed (positive skew). There are more lower ratings with a few high ratings.\n",
      "Kurtosis: 4241.616412866518\n",
      "The distribution has high kurtosis (leptokurtic). It has heavy tails and more outliers.\n"
     ]
    }
   ],
   "source": [
    "print(f\"Skewness: {skewness_stars}\")\n",
    "if skewness_stars > 0:\n",
    "    print(\"The distribution is right-skewed (positive skew). There are more lower ratings with a few high ratings.\")\n",
    "elif skewness_stars < 0:\n",
    "    print(\"The distribution is left-skewed (negative skew). There are more high ratings with a few low ratings.\")\n",
    "else:\n",
    "    print(\"The distribution is approximately symmetric.\")\n",
    "\n",
    "print(f\"Kurtosis: {kurtosis_stars}\")\n",
    "if kurtosis_stars > 3:\n",
    "    print(\"The distribution has high kurtosis (leptokurtic). It has heavy tails and more outliers.\")\n",
    "elif kurtosis_stars < 3:\n",
    "    print(\"The distribution has low kurtosis (platykurtic). It has light tails and fewer outliers.\")\n",
    "else:\n",
    "    print(\"The distribution has a kurtosis close to 3 (mesokurtic), which is typical of a normal distribution.\")"
   ]
  },
  {
   "cell_type": "code",
   "execution_count": null,
   "id": "4f563725",
   "metadata": {},
   "outputs": [],
   "source": [
    "\"\"\"\n",
    "\n",
    "Visualizations:\n",
    "\n",
    "Plot a histogram to visualize the distribution of product ratings. Is there a specific rating that is more common?\n",
    "\n",
    "\"\"\""
   ]
  },
  {
   "cell_type": "code",
   "execution_count": 101,
   "id": "89bdb63e",
   "metadata": {},
   "outputs": [
    {
     "data": {
      "text/plain": [
       "Text(0, 0.5, 'Frequency')"
      ]
     },
     "execution_count": 101,
     "metadata": {},
     "output_type": "execute_result"
    },
    {
     "data": {
      "image/png": "[encoded data removed]",
      "text/plain": [
       "<Figure size 1000x600 with 1 Axes>"
      ]
     },
     "metadata": {},
     "output_type": "display_data"
    }
   ],
   "source": [
    "plt.figure(figsize=(10, 6))\n",
    "sns.histplot(df['stars'], bins=50, color='skyblue', edgecolor='black')\n",
    "\n",
    "plt.title('Distribution of Product Rating')\n",
    "plt.xlabel('Stars')\n",
    "plt.ylabel('Frequency')"
   ]
  },
  {
   "cell_type": "code",
   "execution_count": null,
   "id": "6a371d13",
   "metadata": {},
   "outputs": [],
   "source": []
  }
 ],
 "metadata": {
  "kernelspec": {
   "display_name": "base",
   "language": "python",
   "name": "python3"
  },
  "language_info": {
   "codemirror_mode": {
    "name": "ipython",
    "version": 3
   },
   "file_extension": ".py",
   "mimetype": "text/x-python",
   "name": "python",
   "nbconvert_exporter": "python",
   "pygments_lexer": "ipython3",
   "version": "3.12.3"
  }
 },
 "nbformat": 4,
 "nbformat_minor": 5
}
